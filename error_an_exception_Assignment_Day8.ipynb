{
  "nbformat": 4,
  "nbformat_minor": 0,
  "metadata": {
    "colab": {
      "name": "error an exception Assignment Day8.ipynb",
      "provenance": [],
      "collapsed_sections": []
    },
    "kernelspec": {
      "name": "python3",
      "display_name": "Python 3"
    }
  },
  "cells": [
    {
      "cell_type": "markdown",
      "metadata": {
        "id": "fqvky_hWCVWd",
        "colab_type": "text"
      },
      "source": [
        "**ERROR $ EXCEPTION**"
      ]
    },
    {
      "cell_type": "code",
      "metadata": {
        "id": "rkGD888BCUd5",
        "colab_type": "code",
        "colab": {
          "base_uri": "https://localhost:8080/",
          "height": 34
        },
        "outputId": "69d0ef6d-a8ba-49fe-ef3d-ce752672c34e"
      },
      "source": [
        "%%writefile assignmentprob.py\n",
        "def captxt(string_to_ucase):\n",
        "  return string_to_ucase.title()"
      ],
      "execution_count": 1,
      "outputs": [
        {
          "output_type": "stream",
          "text": [
            "Writing assignmentprob.py\n"
          ],
          "name": "stdout"
        }
      ]
    },
    {
      "cell_type": "code",
      "metadata": {
        "id": "EOO5zRjSEEnG",
        "colab_type": "code",
        "colab": {
          "base_uri": "https://localhost:8080/",
          "height": 51
        },
        "outputId": "e3d30c6a-c4f8-4e02-ee6b-46bcc153140b"
      },
      "source": [
        "try:\n",
        "  file=open(\"assignmentprob.py\",\"r\")\n",
        "  file.write(\"hii\")\n",
        "  file.close()\n",
        "\n",
        "except Exception as e:\n",
        "  print(e)\n",
        "\n",
        "finally:\n",
        "  print(\"we can do this\")  "
      ],
      "execution_count": 9,
      "outputs": [
        {
          "output_type": "stream",
          "text": [
            "not writable\n",
            "we can do this\n"
          ],
          "name": "stdout"
        }
      ]
    }
  ]
}