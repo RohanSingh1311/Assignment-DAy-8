{
  "nbformat": 4,
  "nbformat_minor": 0,
  "metadata": {
    "colab": {
      "name": "decorator Day 8.ipynb",
      "provenance": [],
      "collapsed_sections": []
    },
    "kernelspec": {
      "name": "python3",
      "display_name": "Python 3"
    }
  },
  "cells": [
    {
      "cell_type": "markdown",
      "metadata": {
        "id": "SPD2grYsT0lQ",
        "colab_type": "text"
      },
      "source": [
        "# **Decorator, Area Of Circle**"
      ]
    },
    {
      "cell_type": "code",
      "metadata": {
        "id": "duWZIMsuHWAz",
        "colab_type": "code",
        "colab": {}
      },
      "source": [
        "def getinput(areacir):\n",
        "  import math\n",
        "  def wrap_fun():\n",
        "    print(\"you need to enter a Radius of Circle...GET READY!!!\")\n",
        "    r=int(input(\"Enter First Number:\"))\n",
        "    areacir(r)\n",
        "  return wrap_fun()"
      ],
      "execution_count": 5,
      "outputs": []
    },
    {
      "cell_type": "code",
      "metadata": {
        "id": "hkBs6PgHPle1",
        "colab_type": "code",
        "colab": {
          "base_uri": "https://localhost:8080/",
          "height": 68
        },
        "outputId": "3056c103-eae2-4762-ed16-df2ba306e81d"
      },
      "source": [
        "@getinput\n",
        "def area(radius):\n",
        "  print(\"Area of Circle:-\",3.14159*radius**2)"
      ],
      "execution_count": 10,
      "outputs": [
        {
          "output_type": "stream",
          "text": [
            "you need to enter a Radius of Circle...GET READY!!!\n",
            "Enter First Number:5\n",
            "Area of Circle:- 78.53975\n"
          ],
          "name": "stdout"
        }
      ]
    }
  ]
}